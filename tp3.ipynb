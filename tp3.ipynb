{
 "cells": [
  {
   "cell_type": "code",
   "execution_count": null,
   "metadata": {},
   "outputs": [
    {
     "data": {
      "image/png": "[encoded data removed]",
      "text/plain": [
       "<Figure size 432x288 with 1 Axes>"
      ]
     },
     "metadata": {
      "needs_background": "light"
     },
     "output_type": "display_data"
    }
   ],
   "source": [
    "import sympy as sp\n",
    "import numpy as np\n",
    "import matplotlib.pyplot as plt\n",
    "import matplotlib.animation as animation\n",
    "from scipy.misc import derivative\n",
    "from matplotlib.ticker import MaxNLocator\n",
    "from scipy.interpolate import interp1d\n",
    "from numpy.polynomial import Chebyshev\n",
    "from scipy.interpolate import lagrange\n",
    "\n",
    "\n",
    "\n",
    "\n",
    "\n",
    "def divided_diff(x, y):\n",
    "    '''\n",
    "    function to calculate the divided\n",
    "    differences table\n",
    "    '''\n",
    "    n = len(y)\n",
    "    coef = np.zeros([n, n])\n",
    "    # the first column is y\n",
    "    coef[:,0] = y\n",
    "    \n",
    "    for j in range(1,n):\n",
    "         for i in range(n-j):\n",
    "            coef[i][j] = \\\n",
    "           (coef[i+1][j-1] - coef[i][j-1]) / (x[i+j]-x[i])\n",
    "\n",
    "         \n",
    "\n",
    "            \n",
    "    return coef\n",
    "\n",
    "def newton_poly(coef, x_data, x):\n",
    "    '''\n",
    "    evaluate the newton polynomial \n",
    "    at x\n",
    "    '''\n",
    "    n = len(x_data) - 1 \n",
    "    p = coef[n]\n",
    "    for k in range(1,n+1):\n",
    "        p = coef[n-k] + (x -x_data[n-k])*p\n",
    "    return p\n",
    "\n",
    "\n",
    "'''\n",
    "0.00 -70.00\n",
    "0.40 -70.00\n",
    "0.80 -69.72\n",
    "1.00 -65.78\n",
    "1.15 -56.94\n",
    "1.30 -48.28\n",
    "1.50 -34.49\n",
    "1.70 -15.21\n",
    "1.90  10.96\n",
    "2.00  29.44\n",
    "2.10  39.64\n",
    "2.30  14.19\n",
    "2.40 -16.24\n",
    "2.50 -45.10\n",
    "2.60 -65.76\n",
    "2.70 -78.98\n",
    "3.00 -87.38\n",
    "3.30 -84.70\n",
    "3.60 -80.08\n",
    "4.00 -75.12\n",
    "4.50 -71.00\n",
    "5.00 -70.00\n",
    "5.50 -70.00\n",
    "6.00 -70.00\n",
    "'''\n",
    "\n",
    "x = np.array([0, 0.4, 0.8, 1, 1.15, 1.3, 1.5, 1.7, 1.9, 2, 2.1, 2.3, 2.4, 2.5, 2.6, 2.7, 3, 3.3, 3.6, 4, 4.5, 5, 5.5, 6])\n",
    "y = np.array([-70, -70, -69.72, -65.78, -56.94, -48.28, -34.49, -15.21, 10.96, 29.44, 39.64, 14.19, -16.24, -45.1, -65.76, -78.98, -87.38, -84.7, -80.08, -75.12, -71, -70, -70, -70])\n",
    "\n",
    "a_s = divided_diff(x[0:5], y[0:5])[0, :]\n",
    "\n",
    "# evaluate on new data points\n",
    "x_new = np.arange(0, 6.1, 0.00001)\n",
    "y_new = newton_poly(a_s, x[0:5], x_new)\n",
    "\n",
    "plt.ion()\n",
    "plt.plot(x, y, 'bo')\n",
    "\n",
    "\n",
    "\n",
    "\n",
    "plt.xlim(left=0)\n",
    "plt.xlim(right=6)\n",
    "plt.ylim(top=100)\n",
    "plt.ylim(bottom=-100)\n",
    "plt.plot\n",
    "\n",
    "\n",
    "plt.show()"
   ]
  }
 ],
 "metadata": {
  "kernelspec": {
   "display_name": "Python 3.9.12 ('base')",
   "language": "python",
   "name": "python3"
  },
  "language_info": {
   "codemirror_mode": {
    "name": "ipython",
    "version": 3
   },
   "file_extension": ".py",
   "mimetype": "text/x-python",
   "name": "python",
   "nbconvert_exporter": "python",
   "pygments_lexer": "ipython3",
   "version": "3.9.12"
  },
  "orig_nbformat": 4,
  "vscode": {
   "interpreter": {
    "hash": "24a831a009035fcc4b5bc1731ec2f041984e8b2b8b95e0e3a1476be848366ca6"
   }
  }
 },
 "nbformat": 4,
 "nbformat_minor": 2
}
